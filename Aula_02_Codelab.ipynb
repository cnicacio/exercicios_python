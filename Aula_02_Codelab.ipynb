{
  "nbformat": 4,
  "nbformat_minor": 0,
  "metadata": {
    "colab": {
      "name": "Aula_02_Codelab_1.ipynb",
      "provenance": [],
      "collapsed_sections": [],
      "include_colab_link": true
    },
    "kernelspec": {
      "name": "python3",
      "display_name": "Python 3"
    },
    "language_info": {
      "name": "python"
    }
  },
  "cells": [
    {
      "cell_type": "markdown",
      "metadata": {
        "id": "view-in-github",
        "colab_type": "text"
      },
      "source": [
        "<a href=\"https://colab.research.google.com/github/cnicacio/exercicios_python/blob/main/Aula_02_Codelab.ipynb\" target=\"_parent\"><img src=\"https://colab.research.google.com/assets/colab-badge.svg\" alt=\"Open In Colab\"/></a>"
      ]
    },
    {
      "cell_type": "markdown",
      "metadata": {
        "id": "n_igYcmdk6U9"
      },
      "source": [
        "# **Exercícios para treinar:**"
      ]
    },
    {
      "cell_type": "markdown",
      "metadata": {
        "id": "rRyZR6ZAlEHU"
      },
      "source": [
        "1. **Frase na tela** - Implemente um programa que escreve na tela a frase \"O primeiro programa a gente nunca esquece!\".\n",
        "\n",
        "2. **Etiqueta** - Elabore um programa que escreve seu nome completo na primeira linha, seu endereço na segunda e o CEP e telefone na terceira.\n",
        "\n",
        "3. **Letra de música** - Faça um programa que mostre na tela uma letra de música que você gosta (proibido letras do Justin Bieber).\n",
        "\n",
        "4. **Tabela de notas** - Você foi contratado ou contratada por uma escola pra fazer o sistema de boletim dos alunos. Como primeiro passo, escreva um programa que produza a seguinte saída:\n",
        "```\n",
        "ALUNO (A)  NOTA\n",
        "=========  ====\n",
        "ALINE      9.0\n",
        "MÁRIO      DEZ\n",
        "SÉRGIO     4.5\n",
        "SHIRLEY    7.0\n",
        "```\n",
        "\n",
        "5. **Menu** - Elabore um programa que mostre o seguinte menu na tela:\n",
        "```\n",
        "Cadastro de Clientes\n",
        "0 - Fim\n",
        "1 - Inclui\n",
        "2 - Altera\n",
        "3 - Exclui\n",
        "4 - Consulta\n",
        "Digite uma opção: \n",
        "```\n",
        "Ao digitar um valor para a opção, o programa exibe qual opção foi escolhida.\n",
        "```\n",
        "Você escolheu a opção '0'.\n",
        "```\n",
        "\n",
        "6. **Calculadora de Dano** - Escreva um programa que receba dois valores digitados pelo usuário:\n",
        "  - Quantidade de vida de um monstro (entre 10 e 50);\n",
        "  - Valor do ataque do jogador por turno (entre 5 e 10);\n",
        "  - Baseado nos valores digitados, exiba a quantidade de turnos que o jogador irá demorar para conseguir derrotar o monstro.\n",
        "  - ```\n",
        "    O jogador irá derrotar o monstro em 8 turnos.\n",
        "    ```"
      ]
    },
    {
      "cell_type": "markdown",
      "metadata": {
        "id": "JqpuzhNy7gBj"
      },
      "source": [
        "# Exercício 1:\n",
        "\n",
        "## Implemente um programa que escreve na tela a frase \"O primeiro programa a gente nunca esquece!\"."
      ]
    },
    {
      "cell_type": "code",
      "metadata": {
        "colab": {
          "base_uri": "https://localhost:8080/"
        },
        "id": "yyw-CMkV7d_f",
        "outputId": "e3a9052c-c97d-413d-bba9-f2de7ef565f9"
      },
      "source": [
        "x = \"O primeiro programa a gente nunca esquece\"\n",
        "\n",
        "print(x)"
      ],
      "execution_count": 1,
      "outputs": [
        {
          "output_type": "stream",
          "text": [
            "O primeiro programa a gente nunca esquece\n"
          ],
          "name": "stdout"
        }
      ]
    },
    {
      "cell_type": "markdown",
      "metadata": {
        "id": "WkiOdBQP8Amb"
      },
      "source": [
        "# Exercício 2:\n",
        "## Elabore um programa que escreve seu nome completo na primeira linha, seu endereço na segunda e o CEP e telefone na terceira."
      ]
    },
    {
      "cell_type": "code",
      "metadata": {
        "colab": {
          "base_uri": "https://localhost:8080/"
        },
        "id": "QWVjcQo-7_3Y",
        "outputId": "bcbaeb9c-1aaf-4727-c9f1-94fda936fdf5"
      },
      "source": [
        "nome = str(input('Nome completo: '))\n",
        "endereco = str(input('Endereço: '))\n",
        "cep_telefone = str(input('CEP e telefone: '))\n",
        "\n",
        "print(f'Nome: {nome}\\n Endereço: {endereco}\\n CEP e telefone: {cep_telefone}')"
      ],
      "execution_count": 4,
      "outputs": [
        {
          "output_type": "stream",
          "text": [
            "Nome completo: Carlos Nicacio\n",
            "Endereço: Frei Caneca\n",
            "CEP e telefone: 00000-000 e (11) 99999-9999\n",
            "Nome: Carlos Nicacio\n",
            " Endereço: Frei Caneca\n",
            " CEP e telefone: 00000-000 e (11) 99999-9999\n"
          ],
          "name": "stdout"
        }
      ]
    },
    {
      "cell_type": "markdown",
      "metadata": {
        "id": "MuTawz2z9ZE3"
      },
      "source": [
        "# Exercício 3:\n",
        "\n",
        "## Faça um programa que mostre na tela uma letra de música que você gosta (proibido letras do Justin Bieber)."
      ]
    },
    {
      "cell_type": "code",
      "metadata": {
        "colab": {
          "base_uri": "https://localhost:8080/"
        },
        "id": "n27_icIM9e4K",
        "outputId": "a831b210-eeb3-474e-c3bf-280bca5ff08d"
      },
      "source": [
        "y = \"\"\"\n",
        "Quando o rádio toca uma música de amor \n",
        "Penso que é comigo que conversa o cantor \n",
        "Como ele sabe tudo que me aconteceu \n",
        "Mudo de estação também sou eu\n",
        "\"\"\"\n",
        "\n",
        "print(y)"
      ],
      "execution_count": 15,
      "outputs": [
        {
          "output_type": "stream",
          "text": [
            "\n",
            "Quando o rádio toca uma música de amor \n",
            "Penso que é comigo que conversa o cantor \n",
            "Como ele sabe tudo que me aconteceu \n",
            "Mudo de estação também sou eu\n",
            "\n"
          ],
          "name": "stdout"
        }
      ]
    },
    {
      "cell_type": "markdown",
      "metadata": {
        "id": "HqgnPaCGqMPB"
      },
      "source": [
        "# Exercícios 4:\n",
        "\n",
        "### Você foi contratado ou contratada por uma escola pra fazer o sistema de boletim dos alunos. Como primeiro passo, escreva um programa que produza a seguinte saída.\n",
        "\n",
        "#### ALUNO (A)  NOTA\n",
        "#### =========  ====\n",
        "#### ALINE      9.0\n",
        "#### MÁRIO      DEZ\n",
        "#### SÉRGIO     4.5\n",
        "#### SHIRLEY    7.0"
      ]
    },
    {
      "cell_type": "code",
      "metadata": {
        "colab": {
          "base_uri": "https://localhost:8080/"
        },
        "id": "uuGPc7PI9kkj",
        "outputId": "a0084dc7-a492-49a4-cb52-48d2d2a1b4d2"
      },
      "source": [
        "# listas para nomes e notas de alunos\n",
        "# no final, imprime a lista\n",
        "\n",
        "aluno_1 = [input('Nome do aluno 1: '),input('Nota do aluno 1: ')]\n",
        "aluno_2 = [input('Nome do aluno 2: '),input('Nota do aluno 2: ')]\n",
        "aluno_3 = [input('Nome do aluno 3: '),input('Nota do aluno 3: ')]\n",
        "aluno_4 = [input('Nome do aluno 4: '),input('Nota do aluno 4: ')]\n",
        "\n",
        "\n",
        "print(f'Aluno(a) Nota \\n {aluno_1} \\n {aluno_2} \\n {aluno_3} \\n {aluno_4}')"
      ],
      "execution_count": 23,
      "outputs": [
        {
          "output_type": "stream",
          "text": [
            "Nome do aluno 1: Aline\n",
            "Nota do aluno 1: 9.0\n",
            "Nome do aluno 2: Mário\n",
            "Nota do aluno 2: DEZ\n",
            "Nome do aluno 3: Sérgio\n",
            "Nota do aluno 3: 4.5\n",
            "Nome do aluno 4: Shirley\n",
            "Nota do aluno 4: 7.0\n",
            "Aluno(a) Nota \n",
            " ['Aline', '9.0'] \n",
            " ['Mário', 'DEZ'] \n",
            " ['Sérgio', '4.5'] \n",
            " ['Shirley', '7.0']\n"
          ],
          "name": "stdout"
        }
      ]
    },
    {
      "cell_type": "code",
      "metadata": {
        "colab": {
          "base_uri": "https://localhost:8080/"
        },
        "id": "fd3AO4HqJOdy",
        "outputId": "4654d05c-764d-49d2-97ac-be5b9df387f6"
      },
      "source": [
        "# nomes e notas de alunos são variáveis independentes\n",
        "\n",
        "aluno_1 = input('Nome do aluno 1: ')\n",
        "nota_1 = input('Nota do aluno 1: ')\n",
        "aluno_2 = input('Nome do aluno 2: ')\n",
        "nota_2 = input('Nota do aluno 2: ')\n",
        "aluno_3 = input('Nome do aluno 3: ')\n",
        "nota_3 = input('Nota do aluno 3: ')\n",
        "aluno_4 = input('Nome do aluno 4: ')\n",
        "nota_4 = input('Nota do aluno 4: ')\n",
        "\n",
        "print(f'Aluno(a)   Nota\\n ---------------\\n {aluno_1}    {nota_1}\\n {aluno_2}    {nota_2}\\n {aluno_3}    {nota_3}\\n {aluno_4}    {nota_4}')"
      ],
      "execution_count": 31,
      "outputs": [
        {
          "output_type": "stream",
          "text": [
            "Nome do aluno 1: Aline\n",
            "Nota do aluno 1: 9.0\n",
            "Nome do aluno 2: Mário\n",
            "Nota do aluno 2: DEZ\n",
            "Nome do aluno 3: Sérgio\n",
            "Nota do aluno 3: 4.5\n",
            "Nome do aluno 4: Shirley\n",
            "Nota do aluno 4: 7.0\n",
            "Aluno(a)   Nota\n",
            " ---------------\n",
            " Aline    9.0\n",
            " Mário    DEZ\n",
            " Sérgio    4.5\n",
            " Shirley    7.0\n"
          ],
          "name": "stdout"
        }
      ]
    },
    {
      "cell_type": "code",
      "metadata": {
        "colab": {
          "base_uri": "https://localhost:8080/"
        },
        "id": "kqTYFVcrKoFx",
        "outputId": "0631d083-3fa6-4528-e720-d755823bb5bc"
      },
      "source": [
        "# usando o comando from tabulate import tabulate\n",
        "# plota o valor em formato tabular\n",
        "\n",
        "aluno_1 = input('Nome do aluno 1: ')\n",
        "nota_1 = input('Nota do aluno 1: ')\n",
        "aluno_2 = input('Nome do aluno 2: ')\n",
        "nota_2 = input('Nota do aluno 2: ')\n",
        "aluno_3 = input('Nome do aluno 3: ')\n",
        "nota_3 = input('Nota do aluno 3: ')\n",
        "aluno_4 = input('Nome do aluno 4: ')\n",
        "nota_4 = input('Nota do aluno 4: ')\n",
        "\n",
        "# print(tabulate([['Alice', 24], ['Bob', 19]], headers=['Name', 'Age']))\n",
        "\n",
        "from tabulate import tabulate\n",
        "print(tabulate([[aluno_1, nota_1], [aluno_2, nota_2], [aluno_3, nota_3], [aluno_4, nota_4]], headers=['Aluno(a)','Nota']))"
      ],
      "execution_count": 34,
      "outputs": [
        {
          "output_type": "stream",
          "text": [
            "Nome do aluno 1: Aline\n",
            "Nota do aluno 1: 9.0\n",
            "Nome do aluno 2: Mário\n",
            "Nota do aluno 2: DEZ\n",
            "Nome do aluno 3: Sérgio\n",
            "Nota do aluno 3: 4.5\n",
            "Nome do aluno 4: Shirley\n",
            "Nota do aluno 4: 7.0\n",
            "Aluno(a)    Nota\n",
            "----------  ------\n",
            "Aline       9.0\n",
            "Mário       DEZ\n",
            "Sérgio      4.5\n",
            "Shirley     7.0\n"
          ],
          "name": "stdout"
        }
      ]
    },
    {
      "cell_type": "markdown",
      "metadata": {
        "id": "eqmDDWEQCFye"
      },
      "source": [
        "# Exercício 5:\n",
        "\n",
        "## Elabore um programa que mostre o seguinte menu na tela:\n",
        "\n",
        "#### Cadastro de Clientes\n",
        "#### 0 - Fim\n",
        "#### 1 - Inclui\n",
        "#### 2 - Altera\n",
        "#### 3 - Exclui\n",
        "#### 4 - Consulta\n",
        "#### Digite uma opção:\n",
        "\n",
        "#### Ao digitar um valor para a opção, o programa exibe qual opção foi escolhida."
      ]
    },
    {
      "cell_type": "code",
      "metadata": {
        "colab": {
          "base_uri": "https://localhost:8080/"
        },
        "id": "A_VhDCYoCOq0",
        "outputId": "879e9497-b63c-40e4-e849-fc3c5c716712"
      },
      "source": [
        "print(\"Cadastro de Clientes: \\n 0 - Fim \\n 1 - Inclui \\n 2 - Altera \\n 3 - Exclui \\n 4 - Consulta\")\n",
        "x = input(\"Digite uma opção: \") # x é igual à opção\n",
        "\n",
        "print(f\"Você digitou a opção '{x}'\")"
      ],
      "execution_count": 58,
      "outputs": [
        {
          "output_type": "stream",
          "text": [
            "Cadastro de Clientes: \n",
            " 0 - Fim \n",
            " 1 - Inclui \n",
            " 2 - Altera \n",
            " 3 - Exclui \n",
            " 4 - Consulta\n",
            "Digite uma opção: 3\n",
            "Você digitou a opção '3'\n"
          ],
          "name": "stdout"
        }
      ]
    },
    {
      "cell_type": "markdown",
      "metadata": {
        "id": "rwIKITlNGgiW"
      },
      "source": [
        "#Exercício 6:\n",
        "\n",
        "## Calculadora de Dano - Escreva um programa que receba dois valores digitados pelo usuário:\n",
        "\n",
        "### Quantidade de vida de um monstro (entre 10 e 50);\n",
        "### Valor do ataque do jogador por turno (entre 5 e 10);\n",
        "### Baseado nos valores digitados, exiba a quantidade de turnos que o jogador irá demorar para conseguir derrotar o monstro."
      ]
    },
    {
      "cell_type": "code",
      "metadata": {
        "colab": {
          "base_uri": "https://localhost:8080/"
        },
        "id": "VY8ZksCqGplO",
        "outputId": "7c93faef-c379-4188-edeb-778f562a3604"
      },
      "source": [
        "from math import ceil #importa a biblioteca ceil, para arredondar a variável float para cima\n",
        "vida_monstro = int(input(\"Quantidade de vida de um monstro (entre 10 e 50): \"))\n",
        "valor_ataque = int(input(\"Valor do ataque do jogador por turno (entre 5 e 10): \"))\n",
        "turnos_ataque = ceil(vida_monstro / valor_ataque) #ceil arredonda o número para cima\n",
        "\n",
        "print(f\"O jogador irá derrotar o monstro em {(turnos_ataque + 1)} turnos\")"
      ],
      "execution_count": 5,
      "outputs": [
        {
          "output_type": "stream",
          "text": [
            "Quantidade de vida de um monstro (entre 10 e 50): 50\n",
            "Valor do ataque do jogador por turno (entre 5 e 10): 8\n",
            "O jogador irá derrotar o monstro em 8 turnos\n"
          ],
          "name": "stdout"
        }
      ]
    },
    {
      "cell_type": "markdown",
      "metadata": {
        "id": "U-ltrv0jqPBq"
      },
      "source": [
        "## #01 - E os 10% do garçom?**\n",
        "\n",
        "- Defina uma variável para o valor de uma refeição que custou R$ 42,54;\n",
        "\n",
        "- Defina uma variável para o valor da taxa de serviço que é de 10%;\n",
        "\n",
        "- Defina uma variável que calcula o valor total da conta e exiba-o no console com essa formatação: R$ XXXX.XX."
      ]
    },
    {
      "cell_type": "code",
      "metadata": {
        "id": "jbcSv4NFkB1C",
        "colab": {
          "base_uri": "https://localhost:8080/"
        },
        "outputId": "6653abdd-7955-4194-d8a8-0286cbcf8711"
      },
      "source": [
        "valor_refeicao = float(input(\"Valor da refeição: \"))\n",
        "taxa_servico = float(input(\"Taxa de serviço: \"))\n",
        "\n",
        "valor_conta = float(valor_refeicao * (1 + (taxa_servico / 100)))\n",
        "\n",
        "valor_conta2 = \"{:.2f}\".format(valor_conta)\n",
        "\n",
        "print(f'O valor total da conta é R$ {valor_conta2}')"
      ],
      "execution_count": 39,
      "outputs": [
        {
          "output_type": "stream",
          "text": [
            "Valor da refeição: 42.54\n",
            "Taxa de serviço: 10\n",
            "O valor total da conta é R$ 46.79\n"
          ],
          "name": "stdout"
        }
      ]
    },
    {
      "cell_type": "markdown",
      "metadata": {
        "id": "JR3-KgsTqR41"
      },
      "source": [
        "## #02 - Qual o valor do troco?\n",
        "\n",
        "*   Defina uma variável para o valor de uma compra que custou R$100,98;\n",
        "\n",
        "*   Defina uma variável para o valor que o cliente pagou R$150,00;\n",
        "\n",
        "*   Defina uma variável que calcula o valor do troco e exiba-o no console com o valor final arredondado."
      ]
    },
    {
      "cell_type": "code",
      "metadata": {
        "id": "hBf3kE_pksAI",
        "colab": {
          "base_uri": "https://localhost:8080/"
        },
        "outputId": "23637f48-fa99-4ef3-d10f-d4462788d9f9"
      },
      "source": [
        "valor_compra = float(input(\"Valor da compra: R$ \"))\n",
        "valor_pago = float(input(\"Valor pago: R$ \"))\n",
        "\n",
        "troco = valor_pago - valor_compra\n",
        "\n",
        "print(f'O troco é igual a R$ {troco:.2f}')"
      ],
      "execution_count": 51,
      "outputs": [
        {
          "output_type": "stream",
          "text": [
            "Valor da compra: R$ 100.98\n",
            "Valor pago: R$ 150\n",
            "O troco é igual a R$ 49.02\n"
          ],
          "name": "stdout"
        }
      ]
    },
    {
      "cell_type": "markdown",
      "metadata": {
        "id": "2Uu84Uqtkunt"
      },
      "source": [
        "## #03 - Você está na flor da idade?\n",
        "\n",
        "*  Defina uma variável para o valor do ano do nascimento;\n",
        "*  Defina uma variável para o valor do ano atual;\n",
        "*  Defina uma variável que calcula o valor final da idade da pessoa;\n",
        "*  Exiba uma mensagem final dizendo a idade da pessoa e a mensagem \"Você está na flor da idade\"."
      ]
    },
    {
      "cell_type": "code",
      "metadata": {
        "id": "kyXxJV3nk14Z",
        "colab": {
          "base_uri": "https://localhost:8080/"
        },
        "outputId": "beb8c21b-66a3-43a5-f49e-986f787296fd"
      },
      "source": [
        "ano_nasc = int(input(\"Ano de nascimento: \"))\n",
        "ano_atual = int(input(\"Ano atual: \"))\n",
        "\n",
        "idade = ano_atual - ano_nasc\n",
        "\n",
        "print(f'Sua idade é {idade} anos. Você está na flor da idade')"
      ],
      "execution_count": 42,
      "outputs": [
        {
          "output_type": "stream",
          "text": [
            "Ano de nascimento: 1994\n",
            "Ano atual: 2021\n",
            "Sua idade é 27 anos. Você está na flor da idade\n"
          ],
          "name": "stdout"
        }
      ]
    },
    {
      "cell_type": "markdown",
      "metadata": {
        "id": "w1T7s2q0p-pt"
      },
      "source": [
        "# Mini projetos"
      ]
    },
    {
      "cell_type": "markdown",
      "metadata": {
        "id": "meUw7PTwqC-Y"
      },
      "source": [
        "## #01 - Conversor de moedas\n",
        "\n",
        "Crie um programa que solicite um um valor em real ao usuário e converta esse valor, para:\n",
        "\n",
        "- DOLAR,\n",
        "- EURO,\n",
        "- LIBRA ESTERLINA,\n",
        "- DÓLAR CANADENSE,\n",
        "- PESO ARGENTINO,\n",
        "- PESO CHILENO.\n",
        "\n",
        "Para esse exercício você precisará realizar uma pesquisa para saber a cotação de cada moeda em real. Mostrar o resultado no formato $ XXXX.XX"
      ]
    },
    {
      "cell_type": "code",
      "metadata": {
        "id": "q481snSClrXe",
        "colab": {
          "base_uri": "https://localhost:8080/"
        },
        "outputId": "1648b98a-f409-4f6b-c3fa-6d97134609f4"
      },
      "source": [
        "valor_real = float(input(\"Valor em real: R$ \"))\n",
        "cot_dolar = 5.04\n",
        "cot_libra = 7.13\n",
        "cot_dolar_can = 4.16\n",
        "cot_peso_arg = 0.053\n",
        "cot_peso_chi = 0.007\n",
        "\n",
        "valor_dolar = (valor_real / cot_dolar)\n",
        "valor_libra = (valor_real / cot_libra)\n",
        "valor_dolar_can = (valor_real / cot_dolar_can)\n",
        "valor_peso_arg = (valor_real / cot_peso_arg)\n",
        "valor_peso_chi = (valor_real / cot_peso_chi)\n",
        "\n",
        "print(f'Valor em real: R$ {valor_real:.2f}\\n Valor em dólar: $ {valor_dolar:.2f}\\n Valor em libra: $ {valor_libra:.2f}\\n Valor em dólar canadense: $ {valor_dolar_can:.2f}\\n Valor em peso argentino: $ {valor_peso_arg:.2f}\\n Valor em peso chileno: $ {valor_peso_chi:.2f}')"
      ],
      "execution_count": 6,
      "outputs": [
        {
          "output_type": "stream",
          "text": [
            "Valor em real: R$ 42.50\n",
            "Valor em real: R$ 42.50\n",
            " Valor em dólar: $ 8.43\n",
            " Valor em libra: $ 5.96\n",
            " Valor em dólar canadense: $ 10.22\n",
            " Valor em peso argentino: $ 801.89\n",
            " Valor em peso chileno: $ 6071.43\n"
          ],
          "name": "stdout"
        }
      ]
    },
    {
      "cell_type": "markdown",
      "metadata": {
        "id": "KK9PIcJ4qIF9"
      },
      "source": [
        "## #02 - Calculadora de aumento de aluguel\n",
        "\n",
        "Vamos construir um programa que irá calcular o aumento anual do seu aluguel em duas partes:\n",
        "\n",
        "### Parte 1\n",
        "A sua calculadora vai receber o `valor do aluguel` e calcular o aumento baseado no `IGPM de 31%`. A calculadora deve apresentar o aluguel reajustado no formato `R$ XXXX.XX`\n",
        "\n",
        "**Exemplo:**\n",
        "```\n",
        "Valor do aluguel = 1000\n",
        "Valor do aluguel reajustado = R$ 1310,00"
      ]
    },
    {
      "cell_type": "code",
      "metadata": {
        "id": "VdjHa9Csl0Lg",
        "colab": {
          "base_uri": "https://localhost:8080/"
        },
        "outputId": "c2c948d7-9a82-445e-a010-3cf97819c449"
      },
      "source": [
        "valor_aluguel = float(input(\"Valor do aluguel: R$ \"))\n",
        "IGPM = 0.31\n",
        "\n",
        "print(f'O valor reajustado do aluguel é de R$ {(valor_aluguel * (1 + IGPM)):.2f}')"
      ],
      "execution_count": 53,
      "outputs": [
        {
          "output_type": "stream",
          "text": [
            "Valor do aluguel: R$ 1000\n",
            "O valor reajustado do aluguel é de R$ 1310.00\n"
          ],
          "name": "stdout"
        }
      ]
    },
    {
      "cell_type": "markdown",
      "metadata": {
        "id": "lKTwnuNMl8rP"
      },
      "source": [
        "### Parte 2\n",
        "Agora, altere sua calculadora para receber além do `valor do aluguel`, o percentual do reajuste no formato `XX%`.  \n",
        "\n",
        "**Dica:** Descubra uma forma de transformar o percentual recebido em um número para efetuar o cálculo.\n",
        "\n",
        "**Exemplo:**\n",
        "```\n",
        "Valor do aluguel = 1000\n",
        "Percentual do reajuste = 31%\n",
        "Valor do aluguel reajustado = R% 1310,00\n",
        "```"
      ]
    },
    {
      "cell_type": "code",
      "metadata": {
        "id": "aw2Zk_9KmA85",
        "colab": {
          "base_uri": "https://localhost:8080/"
        },
        "outputId": "ac1c2602-b3ca-4458-8632-62d947f47bcf"
      },
      "source": [
        "valor_aluguel = float(input(\"Valor do aluguel: R$ \"))\n",
        "reajuste = float(input(\"Valor do reajuste (%): \"))\n",
        "\n",
        "print(f'O valor reajustado do aluguel com aumento de {reajuste:.2f} % é de R$ {(valor_aluguel * (1 + reajuste/100)):.2f}')"
      ],
      "execution_count": 14,
      "outputs": [
        {
          "output_type": "stream",
          "text": [
            "Valor do aluguel: R$ 2513\n",
            "Valor do reajuste (%): 39\n",
            "O valor reajustado do aluguel com aumento de 39.00 % é de R$ 3493.07\n"
          ],
          "name": "stdout"
        }
      ]
    }
  ]
}