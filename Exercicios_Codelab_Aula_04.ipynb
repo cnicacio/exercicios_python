{
  "nbformat": 4,
  "nbformat_minor": 0,
  "metadata": {
    "colab": {
      "name": "Exercicios_Codelab_Aula_04.ipynb",
      "provenance": [],
      "collapsed_sections": [],
      "include_colab_link": true
    },
    "kernelspec": {
      "name": "python3",
      "display_name": "Python 3"
    },
    "language_info": {
      "name": "python"
    }
  },
  "cells": [
    {
      "cell_type": "markdown",
      "metadata": {
        "id": "view-in-github",
        "colab_type": "text"
      },
      "source": [
        "<a href=\"https://colab.research.google.com/github/cnicacio/exercicios_python/blob/main/Exercicios_Codelab_Aula_04.ipynb\" target=\"_parent\"><img src=\"https://colab.research.google.com/assets/colab-badge.svg\" alt=\"Open In Colab\"/></a>"
      ]
    },
    {
      "cell_type": "markdown",
      "metadata": {
        "id": "SW-cnnj3AAlE"
      },
      "source": [
        "## Exercício 01\n",
        "\n",
        "Faça um programa que pergunte ao usuário um número e valide se o numero é par ou impar:\n",
        "\n",
        "* Crie uma variável para receber o valor, com conversão para int\n",
        "* Para um número ser par, a divisão dele por 2 tem que dar resto 0"
      ]
    },
    {
      "cell_type": "code",
      "metadata": {
        "id": "ZeuCDPZQFT9T"
      },
      "source": [
        "# Exercício 01\n",
        "\n",
        "num = int(input('Digite um número: '))\n",
        "\n",
        "if num % 2 == 0:\n",
        "  print('O número é par')\n",
        "else:\n",
        "  print('O número é ímpar')"
      ],
      "execution_count": null,
      "outputs": []
    },
    {
      "cell_type": "markdown",
      "metadata": {
        "id": "jXVUBuN3DcU-"
      },
      "source": [
        "## Exercício 02\n",
        "\n",
        "> Parte 1\n",
        "\n",
        "Faça um script que peça um valor e mostre na tela se o valor é positivo ou negativo.\n",
        "\n",
        "> Parte 2\n",
        "\n",
        "Agora implemente a funcionalidade de não aceitar o número 0, no input. (esse vai além do explicado até agora)"
      ]
    },
    {
      "cell_type": "code",
      "metadata": {
        "id": "bsM4V6SeHwJr"
      },
      "source": [
        "# Exercício 02\n",
        "\n",
        "# num2 = int(input('Digite um número: ')) # se digitar um número float, retorna erro\n",
        "\n",
        "# usando if aninhado\n",
        "\n",
        "num2 = float(input('Digite um número: '))\n",
        "\n",
        "if num2 != 0:\n",
        "  if num2 > 0:\n",
        "    print('O número é positivo')\n",
        "  else:\n",
        "    print('O número é negativo')\n",
        "else:\n",
        "  print('Número inválido')"
      ],
      "execution_count": null,
      "outputs": []
    },
    {
      "cell_type": "code",
      "metadata": {
        "id": "eR4EdEQWezka"
      },
      "source": [
        "# fazendo uso de elif\n",
        "\n",
        "num3 = float(input('Digite um número: '))\n",
        "\n",
        "if num3 == 0:\n",
        "  print('Número inválido')\n",
        "\n",
        "elif num3 > 0: #elif = else + if\n",
        "  print('Número positivo')\n",
        "else:\n",
        "  print('Número negativo')"
      ],
      "execution_count": null,
      "outputs": []
    },
    {
      "cell_type": "code",
      "metadata": {
        "id": "RU2vgjXRe0DK"
      },
      "source": [
        "# fazendo uso de elif - parte 2\n",
        "\n",
        "num4 = float(input('Digite um número: '))\n",
        "\n",
        "if num4 == 0:\n",
        "  print('Número inválido')\n",
        "\n",
        "elif num4 > 0:\n",
        "  print('Número positivo')\n",
        "elif num4 < 0:\n",
        "  print('Número negativo')"
      ],
      "execution_count": null,
      "outputs": []
    },
    {
      "cell_type": "markdown",
      "metadata": {
        "id": "90mUizLXOKd3"
      },
      "source": [
        "## Exercício 03\n",
        "\n",
        "Faça um programa que peça dois números, imprima o maior deles ou imprima \"Numeros iguais\" se os números forem iguais."
      ]
    },
    {
      "cell_type": "code",
      "metadata": {
        "id": "7yXB2kfUVYuD"
      },
      "source": [
        "numero1 = float(input('Digite o primeiro número: '))\n",
        "numero2 = float(input('Digite o segundo número: '))\n",
        "\n",
        "if numero1 == numero2:\n",
        "  print('Números iguais')\n",
        "elif numero1 > numero2:\n",
        "  print('O primeiro número é maior que o segundo')\n",
        "else:\n",
        "  print('O segundo número é maior que o primeiro')"
      ],
      "execution_count": null,
      "outputs": []
    },
    {
      "cell_type": "markdown",
      "metadata": {
        "id": "9BATv7tsOWOI"
      },
      "source": [
        "## Exercício 04\n",
        "\n",
        "Crie um programa que verifique se uma letra digitada é \"F\" ou \"M\". Conforme a letra, escrever: F - Feminino, M - Masculino, caso escreva outra letra: Sexo Biológico Inválido."
      ]
    },
    {
      "cell_type": "code",
      "metadata": {
        "id": "pRm8kyI7Wnp4"
      },
      "source": [
        "sexo_biologico = input('Digite o seu sexo biológico [F/M]: ').strip().upper()[0]\n",
        "\n",
        "if sexo_biologico == 'F':\n",
        "  print('Sexo biológico feminino')\n",
        "elif sexo_biologico == 'M':\n",
        "  print('Sexo biológico masculino')\n",
        "else:\n",
        "  print('Sexo biológico inválido')"
      ],
      "execution_count": null,
      "outputs": []
    },
    {
      "cell_type": "code",
      "metadata": {
        "id": "ff-LkxjUe8io"
      },
      "source": [
        "sexo_biologico2 = input('Digite o seu sexo biológico [F/M]: ').strip().upper()[0]\n",
        "\n",
        "if sexo_biologico2 != 'F' and sexo_biologico2 != 'M':\n",
        "  print('Sexo biológico inválido')\n",
        "elif sexo_biologico2 == 'M':\n",
        "  print('Sexo biológico masculino')\n",
        "else:\n",
        "  print('Sexo biológico feminino')"
      ],
      "execution_count": null,
      "outputs": []
    },
    {
      "cell_type": "markdown",
      "metadata": {
        "id": "WX2j2ITtY3G5"
      },
      "source": [
        "### Exercício 05\n",
        "\n",
        "Crie um programa em Python que peça a nota do aluno, que deve ser um float entre 0.00 e 10.0\n",
        "\n",
        "* Se a nota for menor que 6.0, deve exibir a nota F.\n",
        "\n",
        "* Se a nota for de 6.0 até 7.0, deve exibir a nota D.\n",
        "\n",
        "* Se a nota for entre 7.0 e 8.0, deve exibir a nota C.\n",
        "\n",
        "* Se a nota for entre 8.0 e 9.0, deve exibir a nota B.\n",
        "\n",
        "* Por fim, se for entre 9.0 e 10.0, deve exibir um belo de um A."
      ]
    },
    {
      "cell_type": "code",
      "metadata": {
        "id": "4CjqLlFWY5Z-",
        "colab": {
          "base_uri": "https://localhost:8080/"
        },
        "outputId": "ff6e4e9c-f38f-430d-82ca-c86f9dd6d00d"
      },
      "source": [
        "nota = float(input('Insira sua nota: '))\n",
        "\n",
        "if nota < 0 or nota > 10:\n",
        "  print('Nota inválida!')\n",
        "elif nota < 6.0:\n",
        "  print('Nota F')\n",
        "elif nota >= 6.0 and nota < 7.0:\n",
        "  print('Nota D')\n",
        "elif nota >= 7.0 and nota < 8.0:\n",
        "  print('Nota C')\n",
        "elif nota >= 8.0 and nota < 9.0:\n",
        "  print('Nota B')\n",
        "else:\n",
        "  print('Parabéns, sua nota é A!')"
      ],
      "execution_count": null,
      "outputs": [
        {
          "output_type": "stream",
          "text": [
            "Insira sua nota: 8\n",
            "Nota B\n"
          ],
          "name": "stdout"
        }
      ]
    },
    {
      "cell_type": "markdown",
      "metadata": {
        "id": "xep4W_T-s-Ra"
      },
      "source": [
        "# *Mini Projetos*"
      ]
    },
    {
      "cell_type": "markdown",
      "metadata": {
        "id": "4YbMlSEZG7UM"
      },
      "source": [
        "## **PROJETO 01**\n",
        "\n",
        "*   Escreva um programa que receba uma string digitada pelo usuário;\n",
        "*   Caso a string seja \"medieval\", exiba no console \"espada\";\n",
        "*   Caso contrário, se a string for \"futurista\", exiba no console \"sabre de luz\";\n",
        "*   Caso contrário, exiba no console \"Tente novamente\""
      ]
    },
    {
      "cell_type": "code",
      "metadata": {
        "id": "tn9QH5pVG8Rq",
        "colab": {
          "base_uri": "https://localhost:8080/"
        },
        "outputId": "3b4f8fe8-1014-41e5-cc3b-0615269f278f"
      },
      "source": [
        "# Resposta:\n",
        "\n",
        "char = input('Digite uma característica [Medieval/Futurista]: ').capitalize()\n",
        "\n",
        "if char != 'Medieval' and char != 'Futurista':\n",
        "  print('Tente novamente')\n",
        "elif char == 'Medieval':\n",
        "  print('espada')\n",
        "else:\n",
        "  print('sabre de luz')"
      ],
      "execution_count": null,
      "outputs": [
        {
          "output_type": "stream",
          "text": [
            "Digite uma característica [Medieval/Futurista]: bla bla bla\n",
            "Tente novamente\n"
          ],
          "name": "stdout"
        }
      ]
    },
    {
      "cell_type": "markdown",
      "metadata": {
        "id": "zUGk1OiNHDik"
      },
      "source": [
        "## **PROJETO 02**\n",
        "\n",
        "* Escreva um programa que receba um ataque de espada ou sabre digitada pelo usuário;\n",
        "\n",
        "* Caso o ataque seja \"espada\", exiba no console \"VOCÊ AINDA NÃO MATOU O CHEFÃO\";\n",
        "\n",
        "* Caso contrário, se o ataque for \"sabre\", exiba no console \"VOCÊ DERROTOU O CHEFÃO COM O SABRE DE LUZ\";\n",
        "\n",
        "* Caso contrário, exiba no console \"ATAQUE NOVAMENTE\""
      ]
    },
    {
      "cell_type": "code",
      "metadata": {
        "id": "eNZokIIOHHkp",
        "colab": {
          "base_uri": "https://localhost:8080/"
        },
        "outputId": "69096835-81ef-4c75-cb4a-6f3bb5efc70c"
      },
      "source": [
        "# Resposta:\n",
        "\n",
        "ataque = input('Insira o seu ataque: ').lower()\n",
        "\n",
        "if ataque != 'espada' and ataque != 'sabre':\n",
        "  print('tente novamente'.upper())\n",
        "elif ataque == 'espada':\n",
        "  print('você ainda não matou o chefão'.upper())\n",
        "else:\n",
        "  print('você derrotou o chefão com o sabre de luz'.upper())"
      ],
      "execution_count": null,
      "outputs": [
        {
          "output_type": "stream",
          "text": [
            "Insira o seu ataque: ESPADA\n",
            "VOCÊ AINDA NÃO MATOU O CHEFÃO\n"
          ],
          "name": "stdout"
        }
      ]
    },
    {
      "cell_type": "markdown",
      "metadata": {
        "id": "NRhLAMa6ZfqU"
      },
      "source": [
        "## **DESAFIO 01**\n",
        "\n",
        "**Reajuste salarial**\n",
        "\n",
        "As empresas @.com resolveram dar um aumento de salário aos seus colaboradores e lhe contrataram para desenvolver o programa que calculará os reajustes.\n",
        "\n",
        "Faça um programa que recebe o salário de um colaborador e o reajuste segundo o seguinte critério, baseado no salário atual:\n",
        "* salários até R$ 280,00 (incluindo) : aumento de 20%\n",
        "\n",
        "* salários entre R\\$ 280,00 e R$ 700,00 : aumento de 15%\n",
        "\n",
        "* salários entre R\\$ 700,00 e R$ 1500,00 : aumento de 10%\n",
        "\n",
        "* salários de R$ 1500,00 em diante : aumento de 5% \n",
        "\n",
        "Após o aumento ser realizado, informe na tela:\n",
        "* o salário antes do reajuste;\n",
        "\n",
        "* o percentual de aumento aplicado;\n",
        "\n",
        "* o valor do aumento;\n",
        "\n",
        "* o novo salário, após o aumento.\""
      ]
    },
    {
      "cell_type": "code",
      "metadata": {
        "id": "VpC5oZINZXzt",
        "colab": {
          "base_uri": "https://localhost:8080/"
        },
        "outputId": "b7f4c6eb-c92a-4178-d077-487af4e9dd7d"
      },
      "source": [
        "salario_atual = float(input('Informe o salário atual: '))\n",
        "\n",
        "if salario_atual <= 280.00:\n",
        "  reajuste = 0.20\n",
        "elif salario_atual > 280.00 and salario_atual <= 700.00:\n",
        "  reajuste = 0.15\n",
        "elif salario_atual > 700.00 and salario_atual <= 1500.00:\n",
        "  reajuste = 0.10\n",
        "else:\n",
        "  reajuste = 0.05\n",
        "\n",
        "reajuste_pct = reajuste * 100\n",
        "\n",
        "aumento = salario_atual * reajuste\n",
        "\n",
        "salario_reajustado = salario_atual + aumento\n",
        "\n",
        "print(f'''\n",
        "Salário antes do reajuste: R$ {salario_atual:.2f}\n",
        "Percentual de aumento aplicado: {reajuste_pct:.0f} %\n",
        "Valor do aumento aplicado: R$ {aumento:.2f}\n",
        "Novo salário: R$ {salario_reajustado:.2f}\n",
        "''')"
      ],
      "execution_count": null,
      "outputs": [
        {
          "output_type": "stream",
          "text": [
            "Informe o salário atual: 700\n",
            "\n",
            "Salário antes do reajuste: R$ 700.00\n",
            "Percentual de aumento aplicado: 15 %\n",
            "Valor do aumento aplicado: R$ 105.00\n",
            "Novo salário: R$ 805.00\n",
            "\n"
          ],
          "name": "stdout"
        }
      ]
    },
    {
      "cell_type": "markdown",
      "metadata": {
        "id": "HvThpbU4aBGy"
      },
      "source": [
        "## **DESAFIO 02**\n",
        "\n",
        "**Jogo da adivinhação**\n",
        "\n",
        "Escreva um programa que faça o computador “pensar” em um número inteiro entre 0 e 10 e peça para o usuário tentar descobrir qual foi o número escolhido pelo computador. O programa deverá escrever na tela se o usuário venceu ou perdeu."
      ]
    },
    {
      "cell_type": "code",
      "metadata": {
        "id": "TVeHZbyQZIzO",
        "colab": {
          "base_uri": "https://localhost:8080/"
        },
        "outputId": "a21c1ca2-3005-420c-af5e-417d9469c949"
      },
      "source": [
        "import random #importando a biblioteca ramdom no Python\n",
        "\n",
        "x = random.randint(0, 10) #randint define números entre um intervalo\n",
        "\n",
        "numero = int(input('Digite um número de 0 a 10: '))\n",
        "\n",
        "if numero < 0.0 or numero > 10.0:\n",
        "  print('\\nNúmero inválido. Digite outro número.')\n",
        "elif x == numero:\n",
        "  print(f'\\nParabéns, você venceu! Número escolhido: {numero}. Número sorteado: {x}')\n",
        "else:\n",
        "  print(f'\\nVocê perdeu. Número escolhido: {numero}. Número sorteado: {x}')"
      ],
      "execution_count": null,
      "outputs": [
        {
          "output_type": "stream",
          "text": [
            "Digite um número de 0 a 10: 5\n",
            "\n",
            "Você perdeu. Número escolhido: 5. Número sorteado: 3\n"
          ],
          "name": "stdout"
        }
      ]
    },
    {
      "cell_type": "markdown",
      "metadata": {
        "id": "mjLFAUooaOH1"
      },
      "source": [
        "## **Desafio 03**\n",
        "\n",
        "**Caixa eletrônico**\n",
        "\n",
        "Faça um Programa para um caixa eletrônico. O programa deverá perguntar ao usuário a valor do saque e depois informar quantas notas de cada valor serão fornecidas. As notas disponíveis serão as de 1, 5, 10, 50 e 100 reais. O valor mínimo é de 10 reais e o máximo de 600 reais. O programa não deve se preocupar com a quantidade de notas existentes na máquina.\n",
        "\n",
        "* Exemplo 1: Para sacar a quantia de 256 reais, o programa fornece duas notas de 100, uma nota de 50, uma nota de 5 e uma nota de 1;\n",
        "\n",
        "* Exemplo 2: Para sacar a quantia de 399 reais, o programa fornece três notas de 100, uma nota de 50, quatro notas de 10, uma nota de 5 e quatro notas de 1.\n",
        "\n"
      ]
    },
    {
      "cell_type": "code",
      "metadata": {
        "id": "sH65bTx-ZMLh",
        "colab": {
          "base_uri": "https://localhost:8080/"
        },
        "outputId": "9a1f3452-f1bc-499a-8dcb-ec68bbbfe375"
      },
      "source": [
        "valor_saque = int(input('Digite um valor para saque [R$ 10,00 a R$ 600,00]: R$ '))\n",
        "\n",
        "if valor_saque < 10 or valor_saque > 600:\n",
        "  print('Valor inválido. Tente novamente.')\n",
        "\n",
        "else:\n",
        "  cem = int(valor_saque / 100)\n",
        "  cinquenta = int((valor_saque - cem * 100) / 50)\n",
        "  dez = int((valor_saque - cem * 100 - cinquenta * 50) / 10)\n",
        "  cinco = int((valor_saque - cem * 100 - cinquenta * 50 - dez * 10) / 5)\n",
        "  um = int((valor_saque - cem * 100 - cinquenta * 50 - dez * 10 - cinco * 5))\n",
        "\n",
        "print(f'''\n",
        "Notas de R$ 100,00: {cem}\n",
        "Notas de R$ 50,00: {cinquenta}\n",
        "Notas de R$ 10,00: {dez}\n",
        "Notas de R$ 5,00: {cinco}\n",
        "Notas de R$ 1,00: {um}\n",
        "''')"
      ],
      "execution_count": null,
      "outputs": [
        {
          "output_type": "stream",
          "text": [
            "Digite um valor para saque [R$ 10,00 a R$ 600,00]: R$ 399\n",
            "\n",
            "Notas de R$ 100,00: 3\n",
            "Notas de R$ 50,00: 1\n",
            "Notas de R$ 10,00: 4\n",
            "Notas de R$ 5,00: 1\n",
            "Notas de R$ 1,00: 4\n",
            "\n"
          ],
          "name": "stdout"
        }
      ]
    },
    {
      "cell_type": "code",
      "metadata": {
        "colab": {
          "base_uri": "https://localhost:8080/"
        },
        "id": "4InPo9Qn-3W6",
        "outputId": "72aca795-4f2c-454c-f32b-a7072cf202f3"
      },
      "source": [
        "saque = int(input('Digite um valor para saque [R$ 10,00 a R$ 600,00]: R$ '))\n",
        "\n",
        "if saque < 10 or saque > 600:\n",
        "  print('Valor inválido. Tente novamente.')\n",
        "\n",
        "else:\n",
        "  nota100 = int(saque // 100)\n",
        "  saque = saque % 100\n",
        "\n",
        "  nota50 = int(saque // 50)\n",
        "  saque = saque % 50\n",
        "\n",
        "  nota10 = int(saque // 10)\n",
        "  saque = saque % 10\n",
        "\n",
        "  nota5 = int(saque // 5)\n",
        "  saque = saque % 5\n",
        "\n",
        "  nota1 = saque\n",
        "\n",
        "print(f'''\n",
        "Notas de R$ 100,00: {nota100}\n",
        "Notas de R$ 50,00: {nota50}\n",
        "Notas de R$ 10,00: {nota10}\n",
        "Notas de R$ 5,00: {nota5}\n",
        "Notas de R$ 1,00: {nota1}\n",
        "''')"
      ],
      "execution_count": null,
      "outputs": [
        {
          "output_type": "stream",
          "text": [
            "Digite um valor para saque [R$ 10,00 a R$ 600,00]: R$ 399\n",
            "\n",
            "Notas de R$ 100,00: 3\n",
            "Notas de R$ 50,00: 1\n",
            "Notas de R$ 10,00: 4\n",
            "Notas de R$ 5,00: 1\n",
            "Notas de R$ 1,00: 4\n",
            "\n"
          ],
          "name": "stdout"
        }
      ]
    }
  ]
}