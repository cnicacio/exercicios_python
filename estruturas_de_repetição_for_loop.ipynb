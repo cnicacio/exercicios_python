{
  "nbformat": 4,
  "nbformat_minor": 0,
  "metadata": {
    "colab": {
      "name": "Estruturas de repetição - for loop.ipynb",
      "provenance": [],
      "collapsed_sections": [],
      "authorship_tag": "ABX9TyOYxT1xsc+0mxj6zT9OBUVa",
      "include_colab_link": true
    },
    "kernelspec": {
      "name": "python3",
      "display_name": "Python 3"
    },
    "language_info": {
      "name": "python"
    }
  },
  "cells": [
    {
      "cell_type": "markdown",
      "metadata": {
        "id": "view-in-github",
        "colab_type": "text"
      },
      "source": [
        "<a href=\"https://colab.research.google.com/github/cnicacio/exercicios_python/blob/main/estruturas_de_repeti%C3%A7%C3%A3o_for_loop.ipynb\" target=\"_parent\"><img src=\"https://colab.research.google.com/assets/colab-badge.svg\" alt=\"Open In Colab\"/></a>"
      ]
    },
    {
      "cell_type": "markdown",
      "metadata": {
        "id": "CBIOy3JIL-dO"
      },
      "source": [
        "## Estrutura de repetição = for\n",
        "\n",
        "#### Em Python, existem somente dois laços: for e while (break simula o do...while)"
      ]
    },
    {
      "cell_type": "code",
      "metadata": {
        "colab": {
          "base_uri": "https://localhost:8080/"
        },
        "id": "XyH99gwgMCt4",
        "outputId": "c65a16e2-e07b-424a-ce3e-b4428cb2defe"
      },
      "source": [
        "# FOR - PARA\n",
        "# Simulação sem repetição - 5 IMPRESSÇÕES\n",
        "\n",
        "print('''\n",
        "GO BLUE!\n",
        "GO BLUE!\n",
        "GO BLUE!\n",
        "GO BLUE!\n",
        "GO BLUE!\n",
        "''')\n",
        "\n",
        "# Criando laços para executar repetições no programa\n",
        "\n",
        "print('-=' * 15) #imprimir '-=' 15 vezes\n",
        "\n",
        "for c in range(0,10):\n",
        "#  print('GO BLUE!') # para c (contador) em um intervalo de 0 a 50 (o range não conta o último número)\n",
        "  print(f'{c+1}: GO BLUE! \\n') # c recebe o valor atual do range (e uma variável), PODE RECEBER QUALQUER NOMENCLATURA\n",
        "\n",
        "for contador in range(1,11):\n",
        "  print(f'{contador}: GO BLUE!')\n"
      ],
      "execution_count": 11,
      "outputs": [
        {
          "output_type": "stream",
          "text": [
            "\n",
            "GO BLUE!\n",
            "GO BLUE!\n",
            "GO BLUE!\n",
            "GO BLUE!\n",
            "GO BLUE!\n",
            "\n",
            "-=-=-=-=-=-=-=-=-=-=-=-=-=-=-=\n",
            "1: GO BLUE! \n",
            "\n",
            "2: GO BLUE! \n",
            "\n",
            "3: GO BLUE! \n",
            "\n",
            "4: GO BLUE! \n",
            "\n",
            "5: GO BLUE! \n",
            "\n",
            "6: GO BLUE! \n",
            "\n",
            "7: GO BLUE! \n",
            "\n",
            "8: GO BLUE! \n",
            "\n",
            "9: GO BLUE! \n",
            "\n",
            "10: GO BLUE! \n",
            "\n",
            "1: GO BLUE!\n",
            "2: GO BLUE!\n",
            "3: GO BLUE!\n",
            "4: GO BLUE!\n",
            "5: GO BLUE!\n",
            "6: GO BLUE!\n",
            "7: GO BLUE!\n",
            "8: GO BLUE!\n",
            "9: GO BLUE!\n",
            "10: GO BLUE!\n"
          ],
          "name": "stdout"
        }
      ]
    },
    {
      "cell_type": "code",
      "metadata": {
        "colab": {
          "base_uri": "https://localhost:8080/"
        },
        "id": "bIM3HhieONCi",
        "outputId": "474f601d-204f-435b-8427-acb908da9b81"
      },
      "source": [
        "for gabriela in range(1,6):\n",
        "  # o que será repetido\n",
        "  n1 = input('Número: ')"
      ],
      "execution_count": 12,
      "outputs": [
        {
          "output_type": "stream",
          "text": [
            "Número: 3\n",
            "Número: 5\n",
            "Número: \n",
            "Número: \n",
            "Número: 1\n"
          ],
          "name": "stdout"
        }
      ]
    },
    {
      "cell_type": "code",
      "metadata": {
        "colab": {
          "base_uri": "https://localhost:8080/"
        },
        "id": "nmVIeFUFP1SS",
        "outputId": "a35c6cb9-e2d3-4805-d82f-092b34189b42"
      },
      "source": [
        "numero = int(input('Qual tabuada você quer fazer? '))\n",
        "\n",
        "for mucio in range(1,11): # o range gera uma lista de números !!!!!\n",
        "  print(f'{mucio} x {numero} = {mucio * numero}')"
      ],
      "execution_count": 16,
      "outputs": [
        {
          "output_type": "stream",
          "text": [
            "Qual tabuada você quer fazer? 10\n",
            "1 x 10 = 10\n",
            "2 x 10 = 20\n",
            "3 x 10 = 30\n",
            "4 x 10 = 40\n",
            "5 x 10 = 50\n",
            "6 x 10 = 60\n",
            "7 x 10 = 70\n",
            "8 x 10 = 80\n",
            "9 x 10 = 90\n",
            "10 x 10 = 100\n"
          ],
          "name": "stdout"
        }
      ]
    },
    {
      "cell_type": "code",
      "metadata": {
        "colab": {
          "base_uri": "https://localhost:8080/"
        },
        "id": "e-ym0JgGQc2U",
        "outputId": "428c03ac-7527-45c8-ddce-82456122e853"
      },
      "source": [
        "numero = int(input('Qual tabuada você quer fazer? '))\n",
        "inicio = int(input('Digite o início: '))\n",
        "fim = int(input('Digite o fim: '))\n",
        "\n",
        "for mucio in range(inicio, fim + 1):\n",
        "  print(f'{mucio} x {numero} = {mucio * numero}')"
      ],
      "execution_count": 27,
      "outputs": [
        {
          "output_type": "stream",
          "text": [
            "Qual tabuada você quer fazer? 7\n",
            "Digite o início: 1\n",
            "Digite o fim: 7\n",
            "1 x 7 = 7\n",
            "2 x 7 = 14\n",
            "3 x 7 = 21\n",
            "4 x 7 = 28\n",
            "5 x 7 = 35\n",
            "6 x 7 = 42\n",
            "7 x 7 = 49\n"
          ],
          "name": "stdout"
        }
      ]
    },
    {
      "cell_type": "code",
      "metadata": {
        "id": "eCIEU8GAU9OD"
      },
      "source": [
        ""
      ],
      "execution_count": null,
      "outputs": []
    },
    {
      "cell_type": "code",
      "metadata": {
        "colab": {
          "base_uri": "https://localhost:8080/"
        },
        "id": "AbqVuaNsRNkh",
        "outputId": "4bfd4ae1-9be6-4976-b814-1e8b5dd9727a"
      },
      "source": [
        "# SOLETRANDO DO CALDEIRÃO DO HUCK\n",
        "\n",
        "for l in 'papibaquigrafo':\n",
        "  print(l) # l representa cada caracter da string"
      ],
      "execution_count": 20,
      "outputs": [
        {
          "output_type": "stream",
          "text": [
            "p\n",
            "a\n",
            "p\n",
            "i\n",
            "b\n",
            "a\n",
            "q\n",
            "u\n",
            "i\n",
            "g\n",
            "r\n",
            "a\n",
            "f\n",
            "o\n"
          ],
          "name": "stdout"
        }
      ]
    },
    {
      "cell_type": "code",
      "metadata": {
        "colab": {
          "base_uri": "https://localhost:8080/"
        },
        "id": "nC3cwQmIR_IC",
        "outputId": "559dfba3-a732-48b2-8cf0-f30a42afe633"
      },
      "source": [
        "# SOLETRANDO DO CALDEIRÃO DO HUCK\n",
        "\n",
        "# from random import randint\n",
        "\n",
        "import time\n",
        "from time import sleep # importa sleep de tempo - código mais limpo\n",
        "\n",
        "print('Soletrando... ')\n",
        "print('-=' * 15)\n",
        "for l in 'papibaquigrafo': # uma string é uma lista de caracteres!!!!!!\n",
        "  print('Laço')\n",
        "  print(l) # l representa cada caracter da string\n",
        "  sleep(0.5) # sleep de x segundos"
      ],
      "execution_count": 24,
      "outputs": [
        {
          "output_type": "stream",
          "text": [
            "Soletrando... \n",
            "-=-=-=-=-=-=-=-=-=-=-=-=-=-=-=\n",
            "Laço\n",
            "p\n",
            "Laço\n",
            "a\n",
            "Laço\n",
            "p\n",
            "Laço\n",
            "i\n",
            "Laço\n",
            "b\n",
            "Laço\n",
            "a\n",
            "Laço\n",
            "q\n",
            "Laço\n",
            "u\n",
            "Laço\n",
            "i\n",
            "Laço\n",
            "g\n",
            "Laço\n",
            "r\n",
            "Laço\n",
            "a\n",
            "Laço\n",
            "f\n",
            "Laço\n",
            "o\n"
          ],
          "name": "stdout"
        }
      ]
    },
    {
      "cell_type": "code",
      "metadata": {
        "colab": {
          "base_uri": "https://localhost:8080/"
        },
        "id": "cAJhs5SISu77",
        "outputId": "c3ab84f3-6298-4a5b-a7de-b4170f1c3a26"
      },
      "source": [
        "# SOLETRANDO DO CALDEIRÃO DO HUCK\n",
        "\n",
        "import time #carrega todas as funções da biblioteca time - programa fica pesado!!\n",
        "\n",
        "\n",
        "print('Soletrando... ')\n",
        "print('-=' * 15)\n",
        "for l in 'papibaquigrafo':\n",
        "  print('Laço')\n",
        "  print(l) # l representa cada caracter da string\n",
        "  time.sleep(0.5) # sleep de x segundos"
      ],
      "execution_count": 25,
      "outputs": [
        {
          "output_type": "stream",
          "text": [
            "Soletrando... \n",
            "-=-=-=-=-=-=-=-=-=-=-=-=-=-=-=\n",
            "Laço\n",
            "p\n",
            "Laço\n",
            "a\n",
            "Laço\n",
            "p\n",
            "Laço\n",
            "i\n",
            "Laço\n",
            "b\n",
            "Laço\n",
            "a\n",
            "Laço\n",
            "q\n",
            "Laço\n",
            "u\n",
            "Laço\n",
            "i\n",
            "Laço\n",
            "g\n",
            "Laço\n",
            "r\n",
            "Laço\n",
            "a\n",
            "Laço\n",
            "f\n",
            "Laço\n",
            "o\n"
          ],
          "name": "stdout"
        }
      ]
    },
    {
      "cell_type": "code",
      "metadata": {
        "colab": {
          "base_uri": "https://localhost:8080/"
        },
        "id": "i_TKkV1oU-lV",
        "outputId": "9ddef2b1-0b79-4bea-ecb6-6a77a7f650f3"
      },
      "source": [
        "from time import sleep\n",
        "from random import randint\n",
        "\n",
        "for n in range(10,0, -1): #contagem regressiva: começar do maior para o menor voltando de 1 em 1\n",
        "  print(n)\n",
        "  sleep(1)\n",
        "\n",
        "print('Feliz ano novo!!')"
      ],
      "execution_count": 30,
      "outputs": [
        {
          "output_type": "stream",
          "text": [
            "10\n",
            "9\n",
            "8\n",
            "7\n",
            "6\n",
            "5\n",
            "4\n",
            "3\n",
            "2\n",
            "1\n",
            "Feliz ano novo!!\n"
          ],
          "name": "stdout"
        }
      ]
    },
    {
      "cell_type": "code",
      "metadata": {
        "colab": {
          "base_uri": "https://localhost:8080/"
        },
        "id": "Cif6ixGlWVVf",
        "outputId": "840d75dd-ea1b-4332-986b-b92843657bd1"
      },
      "source": [
        "for letra in 'Carlos Nicacio':\n",
        "  \n",
        "  if letra == 'r':\n",
        "    print(f'Achei a letra {letra}')\n",
        "  else:\n",
        "    print(f'Não encontrei a letra')\n",
        "print('Fim')"
      ],
      "execution_count": 34,
      "outputs": [
        {
          "output_type": "stream",
          "text": [
            "Não encontrei a letra\n",
            "Não encontrei a letra\n",
            "Achei a letra r\n",
            "Não encontrei a letra\n",
            "Não encontrei a letra\n",
            "Não encontrei a letra\n",
            "Não encontrei a letra\n",
            "Não encontrei a letra\n",
            "Não encontrei a letra\n",
            "Não encontrei a letra\n",
            "Não encontrei a letra\n",
            "Não encontrei a letra\n",
            "Não encontrei a letra\n",
            "Não encontrei a letra\n",
            "Fim\n"
          ],
          "name": "stdout"
        }
      ]
    },
    {
      "cell_type": "code",
      "metadata": {
        "colab": {
          "base_uri": "https://localhost:8080/"
        },
        "id": "LTwiRw1QXP_X",
        "outputId": "1697484a-f8a3-452e-f3bd-21b70bf09e05"
      },
      "source": [
        "from time import sleep\n",
        "for indice, letra in enumerate('Carlos Nicacio'): # indice é a posição de cada valor na string, letra é o valor de cada posição na string\n",
        "  print(f'O {indice+1}ª caractere é: {letra}')\n",
        "  sleep(1)"
      ],
      "execution_count": 39,
      "outputs": [
        {
          "output_type": "stream",
          "text": [
            "O 1ª caractere é: C\n",
            "O 2ª caractere é: a\n",
            "O 3ª caractere é: r\n",
            "O 4ª caractere é: l\n",
            "O 5ª caractere é: o\n",
            "O 6ª caractere é: s\n",
            "O 7ª caractere é:  \n",
            "O 8ª caractere é: N\n",
            "O 9ª caractere é: i\n",
            "O 10ª caractere é: c\n",
            "O 11ª caractere é: a\n",
            "O 12ª caractere é: c\n",
            "O 13ª caractere é: i\n",
            "O 14ª caractere é: o\n"
          ],
          "name": "stdout"
        }
      ]
    },
    {
      "cell_type": "code",
      "metadata": {
        "colab": {
          "base_uri": "https://localhost:8080/"
        },
        "id": "K_zL7ReNY51d",
        "outputId": "1ebc0ac9-db32-479c-90bb-0b8c7ae38cb7"
      },
      "source": [
        "from time import sleep\n",
        "\n",
        "posicao = 0\n",
        "letra_achada = ''\n",
        "\n",
        "for indice, letra in enumerate('Carlos Nicacio'):\n",
        "  if letra == 'a':\n",
        "    posicao = indice\n",
        "    print(posicao)\n",
        "    letra_achada = letra\n",
        "\n",
        "print(f'Achei a letra {letra_achada} na posição {posicao}')"
      ],
      "execution_count": 43,
      "outputs": [
        {
          "output_type": "stream",
          "text": [
            "1\n",
            "10\n",
            "Achei a letra a na posição 10\n"
          ],
          "name": "stdout"
        }
      ]
    },
    {
      "cell_type": "markdown",
      "metadata": {
        "id": "lWMkyXG6ajYZ"
      },
      "source": [
        "01 - Faça um programa que mostre na tela uma contagem regressiva para o estouro de fogos de artifício, indo de 10 até 0, com páusa de 1 segundo entre eles."
      ]
    },
    {
      "cell_type": "code",
      "metadata": {
        "colab": {
          "base_uri": "https://localhost:8080/"
        },
        "id": "jHzsK8rMbeo_",
        "outputId": "bffaa40c-ed1f-48c1-c223-452a7fc067e3"
      },
      "source": [
        "from time import sleep\n",
        "from random import randint\n",
        "\n",
        "for n in range(10,0, -1):\n",
        "  print(n, end= ' ') # insere todos os números \n",
        "  sleep(1)\n",
        "print('\\nFeliz ano novo!!')"
      ],
      "execution_count": 71,
      "outputs": [
        {
          "output_type": "stream",
          "text": [
            "10 9 8 7 6 5 4 3 2 1 \n",
            "Feliz ano novo!!\n"
          ],
          "name": "stdout"
        }
      ]
    },
    {
      "cell_type": "markdown",
      "metadata": {
        "id": "YwTGf00YbA92"
      },
      "source": [
        "02 - Dado uma string com uma frase informada pelo usuário (incluindo espaços em branco), conte quantas vezes aparece as vogais a, e, i, o, u"
      ]
    },
    {
      "cell_type": "code",
      "metadata": {
        "colab": {
          "base_uri": "https://localhost:8080/"
        },
        "id": "x7UVlR5BbfPZ",
        "outputId": "71f0150d-52ab-4ad6-f24b-3087994107bd"
      },
      "source": [
        "frase = input('Digite uma frase: ').lower()\n",
        "\n",
        "contador_a = 0\n",
        "contador_e = 0\n",
        "contador_i = 0\n",
        "contador_o = 0\n",
        "contador_u = 0\n",
        "\n",
        "for letra in frase:\n",
        "  if letra == 'a':\n",
        "    contador_a = contador_a + 1\n",
        "\n",
        "  elif letra == 'e':\n",
        "    contador_e = contador_e + 1\n",
        "\n",
        "  elif letra == 'i':\n",
        "    contador_i = contador_i + 1\n",
        "\n",
        "  elif letra == 'o':\n",
        "    contador_o = contador_o + 1\n",
        "\n",
        "  elif letra == 'u':\n",
        "    contador_u = contador_u + 1\n",
        "\n",
        "print(f'''\n",
        "O número de letras a na frase é: {contador_a}\n",
        "O número de letras e na frase é: {contador_e}\n",
        "O número de letras i na frase é: {contador_i}\n",
        "O número de letras o na frase é: {contador_o}\n",
        "O número de letras u na frase é: {contador_u}\n",
        "''')"
      ],
      "execution_count": 63,
      "outputs": [
        {
          "output_type": "stream",
          "text": [
            "Digite uma frase: Mucio e Jean diamba braba\n",
            "\n",
            "O número de letras a na frase é: 5\n",
            "O número de letras e na frase é: 2\n",
            "O número de letras i na frase é: 2\n",
            "O número de letras o na frase é: 1\n",
            "O número de letras u na frase é: 1\n",
            "\n"
          ],
          "name": "stdout"
        }
      ]
    },
    {
      "cell_type": "code",
      "metadata": {
        "colab": {
          "base_uri": "https://localhost:8080/"
        },
        "id": "DxVKV63cvGQP",
        "outputId": "d385109f-4342-4a65-f0f4-01f802261d17"
      },
      "source": [
        "frase = input('Digite uma frase: ').lower()\n",
        "\n",
        "vogal = 0\n",
        "\n",
        "for letra in frase:\n",
        "  if letra in 'aeiou':\n",
        "    vogal += 1 # é a mesma coisa de vogal = vogal + 1\n",
        "\n",
        "print(f'A frase {frase.upper()} contém {vogal} vogais.')"
      ],
      "execution_count": 73,
      "outputs": [
        {
          "output_type": "stream",
          "text": [
            "Digite uma frase: Eu amo a Gabriela\n",
            "A frase EU AMO A GABRIELA contém 9 vogais.\n"
          ],
          "name": "stdout"
        }
      ]
    },
    {
      "cell_type": "markdown",
      "metadata": {
        "id": "coLarmInbC5i"
      },
      "source": [
        "03 - Desenvolva um código que pergunte um número n para o usuário e exiba todos os seus divisores"
      ]
    },
    {
      "cell_type": "code",
      "metadata": {
        "colab": {
          "base_uri": "https://localhost:8080/"
        },
        "id": "yYbiJahJbfuk",
        "outputId": "edb17ff6-9230-4a68-d3e7-e7f15fc86c51"
      },
      "source": [
        "n1 = int(input('Insira um número: '))\n",
        "\n",
        "for divisor in range(1,n1):\n",
        "  if n1 % divisor == 0:\n",
        "    print(divisor)"
      ],
      "execution_count": 78,
      "outputs": [
        {
          "output_type": "stream",
          "text": [
            "Insira um número: 45\n",
            "1\n",
            "3\n",
            "5\n",
            "9\n",
            "15\n"
          ],
          "name": "stdout"
        }
      ]
    },
    {
      "cell_type": "markdown",
      "metadata": {
        "id": "FY3P27V6bIJh"
      },
      "source": [
        "04 - Escreva um programa onde o usuário digita uma frase e essa frase retorna sem nenhuma vogal"
      ]
    },
    {
      "cell_type": "code",
      "metadata": {
        "colab": {
          "base_uri": "https://localhost:8080/"
        },
        "id": "emU3NpP-bgPA",
        "outputId": "e0d90386-b16b-4dac-e2e8-a98641dacc84"
      },
      "source": [
        "frase = input('Digite uma frase: ').lower()\n",
        "frase_sem_vogal = ''\n",
        "\n",
        "for letra in frase:\n",
        "  if not letra in 'aeiou':\n",
        "    frase_sem_vogal += letra\n",
        "\n",
        "print(frase_sem_vogal)"
      ],
      "execution_count": 81,
      "outputs": [
        {
          "output_type": "stream",
          "text": [
            "Digite uma frase: mucio pede o vinho agora\n",
            "mc pd  vnh gr\n"
          ],
          "name": "stdout"
        }
      ]
    }
  ]
}